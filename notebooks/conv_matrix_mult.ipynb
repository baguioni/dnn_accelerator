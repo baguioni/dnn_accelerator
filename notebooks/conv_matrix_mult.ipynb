{
 "cells": [
  {
   "cell_type": "code",
   "execution_count": 2,
   "id": "799a5ea8-cdc6-4b55-bea7-723d5db24372",
   "metadata": {},
   "outputs": [
    {
     "name": "stdout",
     "output_type": "stream",
     "text": [
      "[[ 1  2  3  4  5]\n",
      " [ 6  7  8  9 10]\n",
      " [11 12 13 14 15]\n",
      " [16 17 18 19 20]\n",
      " [21 22 23 24 25]]\n",
      "[[1 2 3]\n",
      " [4 5 6]\n",
      " [7 8 9]]\n"
     ]
    }
   ],
   "source": [
    "import numpy as np\n",
    "\n",
    "def create_random_array(w, h):\n",
    "    array = np.random.randint(0, 9, size=(h, w))\n",
    "    return array\n",
    "\n",
    "def create_indexed_2d_array(shape):\n",
    "    flat_array = [i+1 for i in range(shape * shape)]\n",
    "    return np.array([flat_array[i*shape:(i+1)*shape] for i in range(shape)])\n",
    "\n",
    "print(create_indexed_2d_array(5))\n",
    "\n",
    "size = 3\n",
    "image = np.array([[1, 2, 3],[4, 5, 6],\n",
    "        [7, 8, 9]])\n",
    "print(image)\n",
    "\n",
    "kernel = [\n",
    "    [1, 2],\n",
    "    [3, 4]\n",
    "]\n",
    "\n",
    "def flatten_array(array):\n",
    "    return array.flatten(order='C')\n",
    "\n",
    "flattened_image = flatten_array(image)"
   ]
  },
  {
   "cell_type": "code",
   "execution_count": 9,
   "id": "d12eb946-44ff-438c-aff4-6610e0cdd8f6",
   "metadata": {},
   "outputs": [
    {
     "name": "stdout",
     "output_type": "stream",
     "text": [
      "[[37, 47], [67, 77]]\n"
     ]
    }
   ],
   "source": [
    "def convolve2d(input_matrix, kernel):\n",
    "    # Dimensions of the input and kernel\n",
    "    input_rows = len(input_matrix)\n",
    "    input_cols = len(input_matrix[0])\n",
    "    kernel_size = len(kernel)\n",
    "    \n",
    "    # Define the output matrix dimensions (for valid convolution)\n",
    "    output_rows = input_rows - kernel_size + 1\n",
    "    output_cols = input_cols - kernel_size + 1\n",
    "    \n",
    "    # Initialize output matrix with zeros\n",
    "    output = [[0 for _ in range(output_cols)] for _ in range(output_rows)]\n",
    "    \n",
    "    # Perform convolution\n",
    "    for i in range(output_rows):\n",
    "        for j in range(output_cols):\n",
    "            # Initialize the sum for this position\n",
    "            sum_value = 0\n",
    "            for ki in range(kernel_size):\n",
    "                for kj in range(kernel_size):\n",
    "                    # Multiply input element with the corresponding kernel element\n",
    "                    sum_value += input_matrix[i + ki][j + kj] * kernel[ki][kj]\n",
    "            # Assign the sum to the output matrix\n",
    "            output[i][j] = sum_value\n",
    "    \n",
    "    return output\n",
    "\n",
    "print(convolve2d(image, kernel))"
   ]
  },
  {
   "cell_type": "code",
   "execution_count": 10,
   "id": "0021ccfd-e196-4bed-bc85-e9357d485473",
   "metadata": {},
   "outputs": [
    {
     "name": "stdout",
     "output_type": "stream",
     "text": [
      "Convolution Result via Toeplitz Matrix Multiplication:\n",
      " [[37. 47.]\n",
      " [67. 77.]]\n"
     ]
    }
   ],
   "source": [
    "import numpy as np\n",
    "\n",
    "def kernel2toeplitz(K, input_shape):\n",
    "    m, n = input_shape\n",
    "    k, _ = K.shape  # assuming kernel is square for simplicity\n",
    "    \n",
    "    output_rows = m - k + 1\n",
    "    output_cols = n - k + 1\n",
    "    \n",
    "    toeplitz_cols = m * n  # The flattened input size\n",
    "    toeplitz_rows = output_rows * output_cols  # Number of output pixels\n",
    "    \n",
    "    toeplitz_matrix = np.zeros((toeplitz_rows, toeplitz_cols))\n",
    "    \n",
    "    row = 0\n",
    "    for i in range(output_rows):\n",
    "        for j in range(output_cols):\n",
    "            # Create a flattened mask with the kernel shifted at (i, j)\n",
    "            flattened_kernel = np.zeros((m, n))\n",
    "            flattened_kernel[i:i+k, j:j+k] = K  # Place the kernel at (i, j)\n",
    "            toeplitz_matrix[row, :] = flattened_kernel.flatten()  # Flatten it into a row\n",
    "            row += 1\n",
    "    \n",
    "    return toeplitz_matrix\n",
    "\n",
    "def convolve_using_toeplitz(input_matrix, K):\n",
    "    input_shape = input_matrix.shape\n",
    "    toeplitz_matrix = kernel2toeplitz(K, input_shape)\n",
    "    \n",
    "    # Flatten the input matrix\n",
    "    flattened_input = input_matrix.flatten()\n",
    "    \n",
    "    # Perform matrix multiplication (Toeplitz matrix with flattened input)\n",
    "    conv_result = toeplitz_matrix @ flattened_input\n",
    "    \n",
    "    # Reshape the result to the proper output shape\n",
    "    output_shape = (input_shape[0] - K.shape[0] + 1, input_shape[1] - K.shape[1] + 1)\n",
    "    conv_result = conv_result.reshape(output_shape)\n",
    "    \n",
    "    return conv_result\n",
    "\n",
    "# Example usage\n",
    "input_matrix = np.array([[1, 2, 3],\n",
    "                         [4, 5, 6],\n",
    "                         [7, 8, 9]])\n",
    "\n",
    "K = np.array([[1, 2],\n",
    "              [3, 4]])  # Example kernel\n",
    "toeplitz_k = kernel2toeplitz(K, (3,3))\n",
    "\n",
    "conv_result = convolve_using_toeplitz(input_matrix, K)\n",
    "print(\"Convolution Result via Toeplitz Matrix Multiplication:\\n\", conv_result)\n"
   ]
  },
  {
   "cell_type": "code",
   "execution_count": 4,
   "id": "07f8cbbd-d3d7-4d16-96dc-04b715ba56f7",
   "metadata": {},
   "outputs": [
    {
     "name": "stdout",
     "output_type": "stream",
     "text": [
      "Saved in row-major order to ifmap.mem\n",
      "[[3 6 4 5 0]\n",
      " [6 0 5 8 1]\n",
      " [2 6 1 2 6]\n",
      " [2 5 8 2 8]\n",
      " [0 0 7 1 7]]\n",
      "Saved in row-major order to weights.mem\n"
     ]
    },
    {
     "data": {
      "text/plain": [
       "[[4, 0, 2, 0, 1, 5, 1, 2, 7],\n",
       " [0, 2, 0, 1, 5, 7, 2, 7, 7],\n",
       " [2, 0, 2, 5, 7, 6, 7, 7, 1],\n",
       " [0, 1, 5, 1, 2, 7, 1, 2, 4],\n",
       " [1, 5, 7, 2, 7, 7, 2, 4, 2],\n",
       " [5, 7, 6, 7, 7, 1, 4, 2, 0],\n",
       " [1, 2, 7, 1, 2, 4, 1, 6, 6],\n",
       " [2, 7, 7, 2, 4, 2, 6, 6, 6],\n",
       " [7, 7, 1, 4, 2, 0, 6, 6, 2]]"
      ]
     },
     "execution_count": 4,
     "metadata": {},
     "output_type": "execute_result"
    }
   ],
   "source": [
    "import numpy as np\n",
    "\n",
    "def save_as_mem_row_major(array, filename):\n",
    "    \"\"\"\n",
    "    Save the 2D numpy array to a .mem file in row-major order.\n",
    "    \n",
    "    Parameters:\n",
    "    - array: 2D numpy array\n",
    "    - filename: The name of the .mem file to save the array into\n",
    "    \"\"\"\n",
    "    with open(filename, 'w') as f:\n",
    "        for row in array:\n",
    "            for value in row:\n",
    "                # Convert to hexadecimal (or you can use a different format if needed)\n",
    "                f.write(f\"{value:02X}\\n\")  # Assuming you want to save it as 2-digit hex\n",
    "    print(f\"Saved in row-major order to {filename}\")\n",
    "\n",
    "def save_as_mem_column_major(array, filename):\n",
    "    \"\"\"\n",
    "    Save the 2D numpy array to a .mem file in column-major order.\n",
    "    \n",
    "    Parameters:\n",
    "    - array: 2D numpy array\n",
    "    - filename: The name of the .mem file to save the array into\n",
    "    \"\"\"\n",
    "    with open(filename, 'w') as f:\n",
    "        for col in range(array.shape[1]):  # Iterate over columns first (column-major order)\n",
    "            for row in range(array.shape[0]):\n",
    "                value = int(array[row, col])\n",
    "                # Convert to hexadecimal (or you can use a different format if needed)\n",
    "                f.write(f\"{value:02X}\\n\")  # Assuming you want to save it as 2-digit hex\n",
    "    print(f\"Saved in column-major order to {filename}\")\n",
    "\n",
    "# Save in row-major order\n",
    "save_as_mem_row_major(image, 'ifmap.mem')\n",
    "\n",
    "test = create_random_array(5,5)\n",
    "\n",
    "print(test)\n",
    "# Save in column-major order\n",
    "save_as_mem_row_major(test, 'weights.mem')\n",
    "\n",
    "[\n",
    "    [4, 0, 2, 0, 1, 5, 1, 2, 7],\n",
    "    [0, 2, 0, 1, 5, 7, 2, 7, 7],\n",
    "    [2, 0, 2, 5, 7, 6, 7, 7, 1],\n",
    "    [0, 1, 5, 1, 2, 7, 1, 2, 4],\n",
    "    [1, 5, 7, 2, 7, 7, 2, 4, 2],\n",
    "    [5, 7, 6, 7, 7, 1, 4, 2, 0],\n",
    "    [1, 2, 7, 1, 2, 4, 1, 6, 6],\n",
    "    [2, 7, 7, 2, 4, 2, 6, 6, 6],\n",
    "    [7, 7, 1, 4, 2, 0, 6, 6, 2]\n",
    "]"
   ]
  },
  {
   "cell_type": "code",
   "execution_count": 12,
   "id": "4e14c4e8-b0e0-4a1f-8ccd-fd92a5eefe42",
   "metadata": {},
   "outputs": [
    {
     "name": "stdout",
     "output_type": "stream",
     "text": [
      "Saved array with concatenated row values to weights.mem\n"
     ]
    }
   ],
   "source": [
    "import numpy as np\n",
    "\n",
    "def save_as_mem_concatenated_row_values(array, filename):\n",
    "    \"\"\"\n",
    "    Save the 2D numpy array to a .mem file where the values in each row are concatenated\n",
    "    without spaces, and each row is written on a new line.\n",
    "    \n",
    "    Parameters:\n",
    "    - array: 2D numpy array\n",
    "    - filename: The name of the .mem file to save the array into\n",
    "    \"\"\"\n",
    "    with open(filename, 'w') as f:\n",
    "        for row in array:\n",
    "            # Concatenate all values in the row into a single string without spaces\n",
    "            row_str = ''.join(f\"{int(value):02X}\" for value in row)  # Two-digit hexadecimal\n",
    "            f.write(f\"{row_str}\\n\")  # Write the concatenated row string and add a newline\n",
    "    print(f\"Saved array with concatenated row values to {filename}\")\n",
    "\n",
    "# Example usage\n",
    "array = np.array([[1, 2, 3],\n",
    "                  [4, 5, 6],\n",
    "                  [7, 8, 9]])\n",
    "\n",
    "\n",
    "\n",
    "# Save the array into a .mem file\n",
    "save_as_mem_concatenated_row_values(create_random_array(5,5), 'weights.mem')\n"
   ]
  },
  {
   "cell_type": "code",
   "execution_count": 13,
   "id": "a43e084d-0f87-4c51-9bd1-7777d855e580",
   "metadata": {},
   "outputs": [
    {
     "name": "stdout",
     "output_type": "stream",
     "text": [
      "[[8 7 0 2 7]\n",
      " [0 4 7 3 5]\n",
      " [6 2 5 8 8]\n",
      " [8 3 5 5 0]\n",
      " [4 7 7 8 7]]\n"
     ]
    }
   ],
   "source": [
    "print(create_random_array(5,5))"
   ]
  },
  {
   "cell_type": "code",
   "execution_count": 19,
   "id": "b59c1fe3-35cb-45ba-b498-8fb60d25c320",
   "metadata": {},
   "outputs": [
    {
     "name": "stdout",
     "output_type": "stream",
     "text": [
      "400020001050706070\n"
     ]
    }
   ],
   "source": [
    "print(\"070607050100020004\" [::-1])"
   ]
  },
  {
   "cell_type": "code",
   "execution_count": 5,
   "id": "02eb3c37-4938-4c00-bdff-a0d24f070f8c",
   "metadata": {},
   "outputs": [
    {
     "name": "stdout",
     "output_type": "stream",
     "text": [
      "Saved in row-major order to router_9x9.mem\n"
     ]
    }
   ],
   "source": [
    "# Prog Rep 7 code\n",
    "router_mem = create_indexed_2d_array(9)\n",
    "save_as_mem_row_major(router_mem, \"router_9x9.mem\")"
   ]
  },
  {
   "cell_type": "code",
   "execution_count": null,
   "id": "073908e1-abda-4e82-8ee7-83b97da7e095",
   "metadata": {},
   "outputs": [],
   "source": []
  }
 ],
 "metadata": {
  "kernelspec": {
   "display_name": "Python 3 (ipykernel)",
   "language": "python",
   "name": "python3"
  },
  "language_info": {
   "codemirror_mode": {
    "name": "ipython",
    "version": 3
   },
   "file_extension": ".py",
   "mimetype": "text/x-python",
   "name": "python",
   "nbconvert_exporter": "python",
   "pygments_lexer": "ipython3",
   "version": "3.10.12"
  }
 },
 "nbformat": 4,
 "nbformat_minor": 5
}
