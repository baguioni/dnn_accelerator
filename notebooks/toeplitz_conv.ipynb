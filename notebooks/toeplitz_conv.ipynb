{
 "cells": [
  {
   "cell_type": "code",
   "execution_count": 1,
   "id": "58691108-b8dc-4b40-ae88-ddaf83abef59",
   "metadata": {},
   "outputs": [],
   "source": [
    "# Imports\n",
    "import numpy as np"
   ]
  },
  {
   "cell_type": "code",
   "execution_count": 2,
   "id": "b97721dc-5b68-40d8-986c-4b224e77749c",
   "metadata": {},
   "outputs": [],
   "source": [
    "# Input Parameters\n",
    "i_size = 3\n",
    "k_size = 3"
   ]
  },
  {
   "cell_type": "code",
   "execution_count": 3,
   "id": "95d26a20-511f-45f7-8730-22e581df879e",
   "metadata": {},
   "outputs": [],
   "source": [
    "# Helper Functions\n",
    "\n",
    "def create_random_array(w, h):\n",
    "    array = np.random.randint(0, 9, size=(h, w))\n",
    "    return array"
   ]
  },
  {
   "cell_type": "code",
   "execution_count": 7,
   "id": "5e1a7f04-3e68-4400-aaaa-ad5164428786",
   "metadata": {},
   "outputs": [],
   "source": [
    "# Sliding Window Convolution\n",
    "def convolve_2d(input_matrix, kernel):\n",
    "    input_rows = len(input_matrix)\n",
    "    input_cols = len(input_matrix[0])\n",
    "    kernel_size = len(kernel)\n",
    "    \n",
    "    output_rows = input_rows - kernel_size + 1\n",
    "    output_cols = input_cols - kernel_size + 1\n",
    "    \n",
    "    output = [[0 for _ in range(output_cols)] for _ in range(output_rows)]\n",
    "    \n",
    "    for i in range(output_rows):\n",
    "        for j in range(output_cols):\n",
    "            sum_value = 0\n",
    "            for ki in range(kernel_size):\n",
    "                for kj in range(kernel_size):\n",
    "                    sum_value += input_matrix[i + ki][j + kj] * kernel[ki][kj]\n",
    "            output[i][j] = sum_value\n",
    "    \n",
    "    return output"
   ]
  },
  {
   "cell_type": "code",
   "execution_count": 14,
   "id": "ad9059b5-f588-4546-9027-98d14e57b3e2",
   "metadata": {},
   "outputs": [],
   "source": [
    "# Convolution using Toeplitz\n",
    "def kernel_to_toeplitz(kernel, input_shape):\n",
    "    m, n = input_shape\n",
    "    k, _ = kernel.shape\n",
    "    \n",
    "    output_rows = m - k + 1\n",
    "    output_cols = n - k + 1\n",
    "    \n",
    "    toeplitz_cols = m * n\n",
    "    toeplitz_rows = output_rows * output_cols\n",
    "    \n",
    "    toeplitz_matrix = np.zeros((toeplitz_rows, toeplitz_cols))\n",
    "    \n",
    "    row = 0\n",
    "    for i in range(output_rows):\n",
    "        for j in range(output_cols):\n",
    "            flattened_kernel = np.zeros((m, n))\n",
    "            flattened_kernel[i:i+k, j:j+k] = kernel\n",
    "            toeplitz_matrix[row, :] = flattened_kernel.flatten()\n",
    "            row += 1\n",
    "    \n",
    "    return toeplitz_matrix\n",
    "\n",
    "def convolve_using_toeplitz(input_matrix, kernel):\n",
    "    input_shape = input_matrix.shape\n",
    "    toeplitz_matrix = kernel2toeplitz(kernel, input_shape)\n",
    "    flattened_input = input_matrix.flatten()\n",
    "    conv_result = toeplitz_matrix @ flattened_input # Matrix multiplication\n",
    "    output_shape = (input_shape[0] - kernel.shape[0] + 1, input_shape[1] - kernel.shape[1] + 1)\n",
    "    conv_result = conv_result.reshape(output_shape)\n",
    "    \n",
    "    return conv_result"
   ]
  },
  {
   "cell_type": "code",
   "execution_count": 15,
   "id": "2471f696-7623-476e-9992-3fb48a86c1b6",
   "metadata": {},
   "outputs": [
    {
     "name": "stdout",
     "output_type": "stream",
     "text": [
      "Input Matrix\n",
      "[[1 2 3]\n",
      " [4 5 6]\n",
      " [7 8 9]]\n",
      "Kernel\n",
      "[[1 2]\n",
      " [3 4]]\n",
      "Sliding Window Convolution\n",
      "[[37, 47], [67, 77]]\n"
     ]
    }
   ],
   "source": [
    "# Example Sliding Window\n",
    "input_matrix = np.array([[1, 2, 3], [4, 5, 6], [7, 8, 9]])\n",
    "kernel = np.array([[1, 2], [3, 4]])\n",
    "\n",
    "print(\"Input Matrix\")\n",
    "print(input_matrix)\n",
    "\n",
    "print(\"Kernel\")\n",
    "print(kernel)\n",
    "\n",
    "sliding_convolution = convolve_2d(input_matrix, kernel)\n",
    "print(\"Sliding Window Convolution\")\n",
    "print(sliding_convolution)"
   ]
  },
  {
   "cell_type": "code",
   "execution_count": 16,
   "id": "5fa847bf-aa41-4e85-8d99-eee49281c2d7",
   "metadata": {},
   "outputs": [
    {
     "name": "stdout",
     "output_type": "stream",
     "text": [
      "Toeplitz Matrix\n",
      "[[1. 2. 0. 3. 4. 0. 0. 0. 0.]\n",
      " [0. 1. 2. 0. 3. 4. 0. 0. 0.]\n",
      " [0. 0. 0. 1. 2. 0. 3. 4. 0.]\n",
      " [0. 0. 0. 0. 1. 2. 0. 3. 4.]]\n",
      "Toeplitz Matrix Multiplication Convolution\n",
      "[[37. 47.]\n",
      " [67. 77.]]\n"
     ]
    }
   ],
   "source": [
    "# Example Toeplitz Matrix\n",
    "toeplitz_k = kernel_to_toeplitz(kernel, (3,3))\n",
    "print(\"Toeplitz Matrix\")\n",
    "print(toeplitz_k)\n",
    "conv_result = convolve_using_toeplitz(input_matrix, kernel)\n",
    "\n",
    "print(\"Toeplitz Matrix Multiplication Convolution\")\n",
    "print(conv_result)"
   ]
  },
  {
   "cell_type": "code",
   "execution_count": null,
   "id": "df7e8125-bcc4-46bc-b453-240a434445a8",
   "metadata": {},
   "outputs": [],
   "source": [
    "# Sa"
   ]
  }
 ],
 "metadata": {
  "kernelspec": {
   "display_name": "Python 3 (ipykernel)",
   "language": "python",
   "name": "python3"
  },
  "language_info": {
   "codemirror_mode": {
    "name": "ipython",
    "version": 3
   },
   "file_extension": ".py",
   "mimetype": "text/x-python",
   "name": "python",
   "nbconvert_exporter": "python",
   "pygments_lexer": "ipython3",
   "version": "3.10.12"
  }
 },
 "nbformat": 4,
 "nbformat_minor": 5
}
